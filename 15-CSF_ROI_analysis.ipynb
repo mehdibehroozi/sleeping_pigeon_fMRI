{
 "cells": [
  {
   "cell_type": "markdown",
   "id": "c4043045",
   "metadata": {},
   "source": [
    "# Transfering CSF masks to single subject space"
   ]
  },
  {
   "cell_type": "code",
   "execution_count": null,
   "id": "a0d1cd75",
   "metadata": {
    "scrolled": true
   },
   "outputs": [],
   "source": [
    "import os\n",
    "import glob\n",
    "data_path = '/mnt/d/Data/Pigeon/Sleep/analysis3'\n",
    "sub_dirs = glob.glob('%s/sub*/2*/results/'%(data_path))\n",
    "\n",
    "masks_path = '/mnt/d/Data/Pigeon/Sleep/Scripts/template'\n",
    "\n",
    "for curr_sub in sub_dirs:\n",
    "    print('Current Directory is: %s'%(curr_sub))\n",
    "    os.chdir(curr_sub)\n",
    "    out_put = 'CSF_analysis_highPass'\n",
    "\n",
    "    print('\\t 1)Transfering 4th Ventrical Mask ...')\n",
    "    os.system('applywarp --ref=reg/example_func --in=%s/V4_mask --out=%s/V4_mask --warp=reg/standard2example_func_warp'%(masks_path,out_put))\n",
    "\n",
    "    print('\\t 2)Transfering Cerebral Ventrical Mask ...')\n",
    "    os.system('applywarp --ref=reg/example_func --in=%s/VC_mask --out=%s/VC_mask --warp=reg/standard2example_func_warp'%(masks_path,out_put))\n",
    "\n",
    "    print('\\t 3)Transfering Lateral Ventrical Mask ...')\n",
    "    os.system('applywarp --ref=reg/example_func --in=%s/LV_mask --out=%s/LV_mask --warp=reg/standard2example_func_warp'%(masks_path,out_put))\n",
    "\n",
    "    print('\\t 4)Transfering Gray Matter Mask ...')\n",
    "    os.system('applywarp --ref=reg/example_func --in=%s/Gray_Matter_mask --out=%s/Gray_Matter_mask --warp=reg/standard2example_func_warp'%(masks_path,out_put))\n",
    "\n"
   ]
  },
  {
   "cell_type": "markdown",
   "id": "28307cfb",
   "metadata": {},
   "source": [
    "# conver denosied functional data to zscore"
   ]
  },
  {
   "cell_type": "code",
   "execution_count": null,
   "id": "0916ee37",
   "metadata": {
    "scrolled": true
   },
   "outputs": [],
   "source": [
    "import os\n",
    "import glob\n",
    "data_path = '/mnt/d/Data/Pigeon/Sleep/analysis3'\n",
    "out_put = 'CSF_analysis_highPass'\n",
    "\n",
    "sub_dirs = glob.glob('%s/sub*/2*/results/%s'%(data_path,out_put))\n",
    "\n",
    "\n",
    "for curr_sub in sub_dirs:\n",
    "    print('Current Directory is: %s'%(curr_sub))\n",
    "    os.chdir(curr_sub)\n",
    "    os.system('fslmaths denoised_data -Tmean denoised_data_mean')\n",
    "    os.system('fslmaths denoised_data -Tstd denoised_data_std')\n",
    "    os.system('fslmaths denoised_data -sub denoised_data_mean -div denoised_data_std denoised_data_zscore')"
   ]
  },
  {
   "cell_type": "markdown",
   "id": "3dc19313",
   "metadata": {},
   "source": [
    "# Extract time series for each mask"
   ]
  },
  {
   "cell_type": "code",
   "execution_count": null,
   "id": "28161ebe",
   "metadata": {
    "scrolled": true
   },
   "outputs": [],
   "source": [
    "import os\n",
    "import glob\n",
    "data_path = '/mnt/d/Data/Pigeon/Sleep/analysis3'\n",
    "out_put = 'CSF_analysis_highPass'\n",
    "\n",
    "sub_dirs = glob.glob('%s/sub*/2*/results/%s'%(data_path,out_put))\n",
    "for curr_sub in sub_dirs:\n",
    "    print('Current Directory is: %s'%(curr_sub))\n",
    "    os.chdir(curr_sub)\n",
    "    os.makedirs('time_series')\n",
    "    \n",
    "    print('\\t 1) Extracting time series of 4th ventricle ...')\n",
    "    os.system('fslmeants -i denoised_data_zscore -o time_series/V4.txt -m V4_mask')\n",
    "    \n",
    "    print('\\t 2) Extracting time series of Cerebral ventricle ...')\n",
    "    os.system('fslmeants -i denoised_data_zscore -o time_series/VC.txt -m VC_mask')\n",
    "    \n",
    "    print('\\t 3) Extracting time series of Lateral ventricle ...')\n",
    "    os.system('fslmeants -i denoised_data_zscore -o time_series/LV.txt -m LV_mask')\n",
    "    \n",
    "    print('\\t 4) Extracting time series of Gray Matter ...')\n",
    "    os.system('fslmeants -i denoised_data_zscore -o time_series/GM.txt -m Gray_Matter_mask')"
   ]
  },
  {
   "cell_type": "code",
   "execution_count": null,
   "id": "2dc27f64",
   "metadata": {},
   "outputs": [],
   "source": []
  }
 ],
 "metadata": {
  "kernelspec": {
   "display_name": "Python 3 (ipykernel)",
   "language": "python",
   "name": "python3"
  },
  "language_info": {
   "codemirror_mode": {
    "name": "ipython",
    "version": 3
   },
   "file_extension": ".py",
   "mimetype": "text/x-python",
   "name": "python",
   "nbconvert_exporter": "python",
   "pygments_lexer": "ipython3",
   "version": "3.9.7"
  }
 },
 "nbformat": 4,
 "nbformat_minor": 5
}
