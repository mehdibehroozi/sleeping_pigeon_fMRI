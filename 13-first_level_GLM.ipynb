{
 "cells": [
  {
   "cell_type": "code",
   "execution_count": null,
   "metadata": {
    "scrolled": true
   },
   "outputs": [],
   "source": [
    "import os\n",
    "import glob\n",
    "import subprocess\n",
    "\n",
    "# Set this to the directory all of the sub### directories live in\n",
    "studydir = '/mnt/hgfs/D/Data/Pigeon/Sleep'\n",
    "\n",
    "hp = 100 # high pass filter\n",
    "# Set this to the directory where you'll dump all the fsf files\n",
    "# May want to make it a separate directory, because you can delete them all o\n",
    "#   once Feat runs\n",
    "fsfdir=\"%s/Scripts/fsfs3\"%(studydir)\n",
    "\n",
    "os.makedirs('%s/firstLevel_GLM'%(fsfdir))\n",
    "\n",
    "# Get all the paths!  Note, this won't do anything special to omit bad subjects\n",
    "subdirs=glob.glob(\"%s/analysis3/sub*/*/results\"%(studydir))\n",
    "\n",
    "for curr_sub in subdirs:\n",
    "    print('Current subject is: %s \\n'%(curr_sub))\n",
    "    #TR = float(subprocess.getoutput('fslinfo %s/preprocessed_func_data.nii.gz | grep pixdim4 | head -n1 | awk \\'{print $2}\\'' % (curr_sub)))\n",
    "    dim4 = float(subprocess.getoutput('fslinfo %s/preprocessed_data_highpassed_chopped.nii.gz | grep dim4 | head -n1 | awk \\'{print $2}\\'' % (curr_sub)))\n",
    "    dim3 = float(subprocess.getoutput('fslinfo %s/preprocessed_data_highpassed_chopped.nii.gz | grep dim3 | head -n1 | awk \\'{print $2}\\'' % (curr_sub)))\n",
    "    dim2 = float(subprocess.getoutput('fslinfo %s/preprocessed_data_highpassed_chopped.nii.gz | grep dim2 | head -n1 | awk \\'{print $2}\\'' % (curr_sub)))\n",
    "    dim1 = float(subprocess.getoutput('fslinfo %s/preprocessed_data_highpassed_chopped.nii.gz | grep dim1 | head -n1 | awk \\'{print $2}\\'' % (curr_sub)))\n",
    "    totalVoxels = dim1 * dim2 * dim3 * dim4\n",
    "    \n",
    "    splitdir = curr_sub.split('/')\n",
    "    subNum = splitdir[-3][3:]\n",
    "    date = splitdir[-2]\n",
    "            \n",
    "    replacements = {'SUBNUM':subNum , 'DATE':date, 'NTPS':str(dim4), 'TOTALVOX':str(totalVoxels)}\n",
    "    \n",
    "    with open(\"%s/template.fsf\"%(fsfdir)) as infile: \n",
    "        with open(\"%s/firstLevel_GLM/design_sub%s_%s.fsf\"%(fsfdir,subNum,date), 'w') as outfile:\n",
    "            for line in infile:\n",
    "            # Note, since the video, I've changed \"iteritems\" to \"items\"\n",
    "            # to make the following work on more versions of python\n",
    "            #  (python 3 no longer has iteritems())  \n",
    "                for src, target in replacements.items():\n",
    "                    line = line.replace(src, target)\n",
    "                outfile.write(line)\n",
    "   \n",
    "    "
   ]
  },
  {
   "cell_type": "markdown",
   "metadata": {},
   "source": [
    "# run first level analysis"
   ]
  },
  {
   "cell_type": "code",
   "execution_count": null,
   "metadata": {
    "scrolled": true
   },
   "outputs": [],
   "source": [
    "import os\n",
    "import glob\n",
    "import time\n",
    "# Set this to the directory all of the sub### directories live in\n",
    "datapath = '/mnt/hgfs/D/Data/Pigeon/Sleep' \n",
    "\n",
    "\n",
    "fsfs_files = glob.glob('%s/Scripts/fsfs/firstLevel_GLM/*.fsf'%(datapath))\n",
    "\n",
    "for curr_fsf in fsfs_files[2:]:\n",
    "    print('Running %s \\n'%(curr_fsf.split('/')[-1]))\n",
    "    results = os.system(\"feat %s\"%(curr_fsf))\n",
    "     "
   ]
  },
  {
   "cell_type": "markdown",
   "metadata": {},
   "source": [
    "# copy reg folder to bold.feat to run group analysis"
   ]
  },
  {
   "cell_type": "code",
   "execution_count": null,
   "metadata": {
    "scrolled": true
   },
   "outputs": [],
   "source": [
    "import os\n",
    "import glob\n",
    "import time\n",
    "# Set this to the directory all of the sub### directories live in\n",
    "datapath = '/mnt/hgfs/D/Data/Pigeon/Sleep/analysis/'\n",
    "\n",
    "sub_files = glob.glob('%s/sub*/*/results'%(datapath))\n",
    "#reg_sources = glob.glob('%s/sub*/results/%s/reg'%(datapath,SeqName))\n",
    "\n",
    "for curr_sub in sub_files:\n",
    "    \n",
    "    red_dir = os.path.join(curr_sub,'reg')\n",
    "   \n",
    "    reg_dist = os.path.join(curr_sub,'preprocessed_data_highpassed_chopped.feat','reg')\n",
    "    print('Copying the reg folder to the feat directory of subject: %s'%(curr_sub.split('/')[-3:-1]))\n",
    "    \n",
    "    os.makedirs(reg_dist)\n",
    "    os.system('cp -R %s/* %s'%(red_dir,reg_dist))\n",
    "    \n",
    "   "
   ]
  },
  {
   "cell_type": "code",
   "execution_count": null,
   "metadata": {},
   "outputs": [],
   "source": []
  }
 ],
 "metadata": {
  "kernelspec": {
   "display_name": "Python 3 (ipykernel)",
   "language": "python",
   "name": "python3"
  },
  "language_info": {
   "codemirror_mode": {
    "name": "ipython",
    "version": 3
   },
   "file_extension": ".py",
   "mimetype": "text/x-python",
   "name": "python",
   "nbconvert_exporter": "python",
   "pygments_lexer": "ipython3",
   "version": "3.9.7"
  }
 },
 "nbformat": 4,
 "nbformat_minor": 2
}
