{
 "cells": [
  {
   "cell_type": "markdown",
   "id": "1f98df2a",
   "metadata": {},
   "source": [
    "# Intensity Normalization\n",
    "This script normalizes runs global intensity normalization with grand mean = 10000 across for group analysis.\n",
    "\n",
    "-----------------------------------------------------------\n",
    "Script written by Mehdi Behroozi\n",
    "<br>\n",
    "Biopsychology, \n",
    "<br>\n",
    "Ruhr-University Bochum, Bochum, Germany\n",
    "<br>\n",
    "(2022.03)\n",
    "\n",
    "-----------------------------------------------------------"
   ]
  },
  {
   "cell_type": "code",
   "execution_count": null,
   "id": "777dd6e9",
   "metadata": {
    "scrolled": true
   },
   "outputs": [],
   "source": [
    "import glob\n",
    "import os\n",
    "import subprocess\n",
    "\n",
    "data_path = '/mnt/d/Data/Pigeon/Sleep/analysis3'\n",
    "bold_dirs = glob.glob('%s/sub*/*/results/*smoothed.nii.gz'%(data_path))\n",
    "\n",
    "\n",
    "for curr_bold in bold_dirs:\n",
    "    sub_dir = os.path.dirname(curr_bold)\n",
    "    \n",
    "    print('Currect file is: %s'%(curr_bold))\n",
    "\n",
    "    # change directory to the res_dir \n",
    "    print('\\t 1) Changing the working directory to %s'%(sub_dir))\n",
    "    os.chdir(sub_dir)\n",
    "    \n",
    "    print('\\t 2) Calculating median intensity ...')\n",
    "    median_intensity = subprocess.check_output(\"fslstats %s -k reg/example_func_mask.nii.gz -p 50\"%(curr_bold.split('/')[-1]), shell=True).decode('utf-8')\n",
    "    median_intensity = float(median_intensity)\n",
    "    print('\\t\\t median intensity is %s'%(median_intensity))\n",
    "    \n",
    "    print('\\t 3) Intensity Normalization with grand mean = 10000...')\n",
    "    \n",
    "    normmean = 10000\n",
    "    scaling = normmean / median_intensity\n",
    "    \n",
    "    #os.system(\"fslmaths %s -mas ../reg/example_func_mask.nii.gz prefiltered_func_data_smooth\"%(curr_bold.split('/')[-1]))\n",
    "    os.system(\"fslmaths %s -mul %s %s_intnorm.nii.gz\"%(curr_bold.split('/')[-1],scaling, curr_bold.split('/')[-1].split('.')[0]))\n"
   ]
  },
  {
   "cell_type": "code",
   "execution_count": null,
   "id": "089c7690",
   "metadata": {},
   "outputs": [],
   "source": []
  }
 ],
 "metadata": {
  "kernelspec": {
   "display_name": "Python 3 (ipykernel)",
   "language": "python",
   "name": "python3"
  },
  "language_info": {
   "codemirror_mode": {
    "name": "ipython",
    "version": 3
   },
   "file_extension": ".py",
   "mimetype": "text/x-python",
   "name": "python",
   "nbconvert_exporter": "python",
   "pygments_lexer": "ipython3",
   "version": "3.9.7"
  }
 },
 "nbformat": 4,
 "nbformat_minor": 5
}
