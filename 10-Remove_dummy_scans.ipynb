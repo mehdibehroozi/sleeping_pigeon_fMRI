{
 "cells": [
  {
   "cell_type": "markdown",
   "metadata": {},
   "source": [
    "### Removing first n volumes of BOLD time series: \n",
    "This is a product of the machine’s magnetic field first lining up the protons in the water molecules in the brain, before they have gone into a stead stat. \n",
    "<br>\n",
    "To remove the thermal noise effect we remove first 5 volumes.\n",
    "<br>\n",
    "In addition, to avoide the edge effect of temporal filtering, we discarded the last 5 volumes.\n",
    "<br>\n",
    "Second code will remove the motion parameters of discarded volumes form bold_mc.par file.\n",
    "\n",
    "-----------------------------------------------------------\n",
    "Script written by Mehdi Behroozi\n",
    "<br>\n",
    "Biopsychology, \n",
    "<br>\n",
    "Ruhr-University Bochum, Bochum, Germany\n",
    "<br>\n",
    "(2022.03)\n",
    "\n",
    "-----------------------------------------------------------"
   ]
  },
  {
   "cell_type": "code",
   "execution_count": null,
   "metadata": {
    "scrolled": true
   },
   "outputs": [],
   "source": [
    "import glob\n",
    "import os\n",
    "import subprocess\n",
    "\n",
    "dummy_scan = 5 #number of volumes for removing  (edit here)\n",
    "\n",
    "data_path = '/mnt/d/Data/Pigeon/Sleep/analysis3'\n",
    "\n",
    "sub_dirs = glob.glob('%s/sub*/*/results'%(data_path))\n",
    "\n",
    "for curr_sub in sub_dirs:\n",
    "    \n",
    "    print('Discarding the first %s and the last %s volumes of dataset: %s \\n'%(dummy_scan, dummy_scan, curr_sub))\n",
    "    \n",
    "    os.chdir(curr_sub)\n",
    "    \n",
    "    nVloume = subprocess.check_output(\"fslnvols  preprocessed_data_bandpassed\", shell=True).decode('utf-8')\n",
    "    os.system(\"fslroi preprocessed_data_bandpassed preprocessed_data_bandpassed_chopped %s %s\"%(dummy_scan,int(nVloume)-2*dummy_scan))\n",
    "    os.system(\"fslroi preprocessed_data_highpassed preprocessed_data_highpassed_chopped %s %s\"%(dummy_scan,int(nVloume)-2*dummy_scan))\n",
    "\n",
    "    #os.system(\"3dTcat -prefix preprocessed_data_bandpassed_chopped.nii.gz preprocessed_data_bandpassed.nii.gz[%s..%s]\"%(5,int(nVloume)-dummy_scan))\n",
    "    #os.system(\"3dTcat -prefix preprocessed_data_highpassed_chopped.nii.gz preprocessed_data_highpassed.nii.gz[%s..%s]\"%(5,int(nVloume)-dummy_scan))\n",
    "    "
   ]
  },
  {
   "cell_type": "markdown",
   "metadata": {},
   "source": [
    "## Removing n voluems for estimated-motion parameters"
   ]
  },
  {
   "cell_type": "code",
   "execution_count": null,
   "metadata": {
    "scrolled": true
   },
   "outputs": [],
   "source": [
    "import glob\n",
    "import os\n",
    "import subprocess\n",
    "\n",
    "dummy_scan = 5 #number of volumes for removing  (edit here)\n",
    "\n",
    "data_path = '/mnt/d/Data/Pigeon/Sleep/analysis3'\n",
    "\n",
    "sub_dirs = glob.glob('%s/sub*/*/results/mc'%(data_path))\n",
    "\n",
    "for curr_sub in sub_dirs:\n",
    "    \n",
    "    print('Discarding the first %s and the last %s volumes of mc: %s \\n'%(dummy_scan, dummy_scan, curr_sub))\n",
    "    \n",
    "    os.chdir(curr_sub)\n",
    "    # open a file\n",
    "    mcFile = open(\"bold_mcf.par\")\n",
    "    # open output file\n",
    "    mcOut=open(\"bold_mcf_chopped.par\",\"w\")\n",
    "    \n",
    "    #number of time points for each line\n",
    "    num_lines = sum(1 for line in open(\"bold_mcf.par\"))\n",
    "\n",
    "    # loop over lines in a file\n",
    "    for pos, l_num in enumerate(mcFile):\n",
    "        # check if the line number is specified in the lines to read array\n",
    "        if (pos > dummy_scan-1) & (pos < num_lines-dummy_scan):\n",
    "            mcOut.write(l_num)\n",
    "        \n",
    "    mcFile.close()\n",
    "    mcOut.close()\n",
    "    \n",
    "   # nVloume = subprocess.check_output(\"fslnvols  preprocessed_data_bandpassed\", shell=True).decode('utf-8')\n",
    "   # os.system(\"fslroi preprocessed_data_bandpassed preprocessed_data_bandpassed_chopped %s %s\"%(dummy_scan,int(nVloume)-2*dummy_scan))\n",
    "   # os.system(\"fslroi preprocessed_data_highpassed preprocessed_data_highpassed_chopped %s %s\"%(dummy_scan,int(nVloume)-2*dummy_scan))\n"
   ]
  },
  {
   "cell_type": "code",
   "execution_count": null,
   "metadata": {},
   "outputs": [],
   "source": []
  }
 ],
 "metadata": {
  "kernelspec": {
   "display_name": "Python 3 (ipykernel)",
   "language": "python",
   "name": "python3"
  },
  "language_info": {
   "codemirror_mode": {
    "name": "ipython",
    "version": 3
   },
   "file_extension": ".py",
   "mimetype": "text/x-python",
   "name": "python",
   "nbconvert_exporter": "python",
   "pygments_lexer": "ipython3",
   "version": "3.9.7"
  }
 },
 "nbformat": 4,
 "nbformat_minor": 4
}
