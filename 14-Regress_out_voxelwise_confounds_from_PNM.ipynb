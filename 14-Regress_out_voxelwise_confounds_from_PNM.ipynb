{
 "cells": [
  {
   "cell_type": "markdown",
   "id": "ac0f0bfa",
   "metadata": {},
   "source": [
    "# Regresing out the Voxel wise EVs (from Pnm) and motion parameters\n",
    "You need to creat blanck design file for each subjects. It must done manually. Yo this you can use Glm.\n",
    "run Glm. in GLM setup windows: adjust number of time points(990), TR (4s), and high path temporal filtering (100s). Then in General Linear Model window: select Basic shap as Empty(all zeros). At the end save them as \"blank_desing\" in design folder inside results directory for each subject.\n",
    "\n",
    "-----------------------------------------------------------\n",
    "Script written by Mehdi Behroozi\n",
    "<br>\n",
    "Biopsychology, \n",
    "<br>\n",
    "Ruhr-University Bochum, Bochum, Germany\n",
    "<br>\n",
    "(2022.03)\n",
    "\n",
    "-----------------------------------------------------------"
   ]
  },
  {
   "cell_type": "code",
   "execution_count": null,
   "id": "d8649492",
   "metadata": {
    "scrolled": true
   },
   "outputs": [],
   "source": [
    "import os\n",
    "import glob\n",
    "\n",
    "data_path = '/mnt/d/Data/Pigeon/Sleep/analysis3'\n",
    "sub_dirs = glob.glob('%s/sub*/2*/results'%(data_path))\n",
    "\n",
    "for curr_sub in sub_dirs:\n",
    "    \n",
    "    print('Current subject is: %s'%(curr_sub.split('/')[-3:-1]))\n",
    "    \n",
    "    os.chdir(curr_sub)\n",
    "    \n",
    "    func_file = 'preprocessed_data_highpassed_chopped.nii.gz'# or preprocessed_data_bandpassed_chopped.nii\n",
    "    mask_file = os.path.join('reg','example_func_mask.nii.gz')\n",
    "    \n",
    "    print('\\t 1) calculating the minimum intensity of the function data ...')\n",
    "    thr = os.popen(\"fslstats %s -k %s -R | awk '{ print  }' -\"%(func_file,mask_file)).read().rstrip()\n",
    "    thr = float(thr.split(' ')[0])\n",
    "    print('\\t\\t The minimum intensity is %s.'%(thr))\n",
    "    \n",
    "    out_put = 'CSF_analysis_highPass'\n",
    "    \n",
    "    print('\\t 2) Regressing out the voxelwise EVs of respration signal ...')\n",
    "    os.system(\"film_gls --in={1} --rn={2} --pd=design/blank_design.mat --thr={0} --sa --ms=5 --con=design/blank_design.con --ven=1,2,3,4,5,6,7,8,9 --vef=PNM/mypnmev001,PNM/mypnmev002,PNM/mypnmev003,PNM/mypnmev004,PNM/mypnmev005,PNM/mypnmev006,PNM/mypnmev007,PNM/mypnmev008,PNM/mypnmev009\".format(str(thr),func_file,out_put))\n",
    "    \n",
    "    print('\\t 3) Calculating mean_fucn and add it to the residual ...')\n",
    "    os.system('fslmaths %s -Tmean %s/mean_func'%(func_file,out_put))    \n",
    "    os.system(\"fslmaths {0}/res4d -add {0}/mean_func {0}/res4d_mean\".format(out_put))\n",
    "    \n",
    "    print('\\t 4) Regressing out the motion parameters ...')\n",
    "    os.system('fsl_regfilt -i {0}/res4d_mean -o {0}/denoised_data -d mc/bold_mcf_chopped.par -f \"1,2,3,4,5,6\"'.format(out_put))"
   ]
  },
  {
   "cell_type": "code",
   "execution_count": null,
   "id": "fdda6ddc",
   "metadata": {},
   "outputs": [],
   "source": []
  }
 ],
 "metadata": {
  "kernelspec": {
   "display_name": "Python 3 (ipykernel)",
   "language": "python",
   "name": "python3"
  },
  "language_info": {
   "codemirror_mode": {
    "name": "ipython",
    "version": 3
   },
   "file_extension": ".py",
   "mimetype": "text/x-python",
   "name": "python",
   "nbconvert_exporter": "python",
   "pygments_lexer": "ipython3",
   "version": "3.9.7"
  }
 },
 "nbformat": 4,
 "nbformat_minor": 5
}
