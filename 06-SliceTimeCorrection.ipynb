{
 "cells": [
  {
   "cell_type": "markdown",
   "id": "0b6ccb50",
   "metadata": {},
   "source": [
    "# Slice Time Correction\n",
    "Unlike a photograph, in which the entire picture is taken in a single moment, an fMRI volume is acquired in slices. Each of these slices takes time to acquire - from tens to hundreds of milliseconds.\n",
    "\n",
    "The two most commonly used methods for creating volumes are sequential and interleaved slice acquisition. We used \"interleaved\" method. The slice-timing correction can lead to significant increases in statistical power for studies with longer TRs (e.g., 2s or longer).\n",
    "\n",
    "Here we only applied slice time correction on the RARE data since they were recorded in the single shot manner. for segmented sequences, it make no sence to apply slice time correction.\n",
    "\n",
    "\n",
    "-----------------------------------------------------------\n",
    "Script written by Mehdi Behroozi\n",
    "<br>\n",
    "Biopsychology, \n",
    "<br>\n",
    "Ruhr-University Bochum, Bochum, Germany\n",
    "<br>\n",
    "(2022.03)\n",
    "\n",
    "-----------------------------------------------------------"
   ]
  },
  {
   "cell_type": "code",
   "execution_count": null,
   "id": "cca30d42",
   "metadata": {
    "scrolled": true
   },
   "outputs": [],
   "source": [
    "import glob\n",
    "import os\n",
    "import subprocess\n",
    "\n",
    "data_path = '/mnt/d/Data/Pigeon/Sleep/analysis3'\n",
    "bold_dirs = glob.glob('%s/sub*/*/results/bold_mcf.nii.gz'%(data_path))\n",
    "TR = 4 #4 second for RARE single shot sequence\n",
    "acquisitionType = 'odd'\n",
    "\n",
    "for curr_bold in bold_dirs:\n",
    "    sub_dir = os.path.dirname(curr_bold)\n",
    "    print('Currect direcotry is: %s'%(sub_dir))\n",
    "\n",
    "    # change directory to the res_dir \n",
    "    print('\\t 1) Changing the working directory to %s'%(sub_dir))\n",
    "    os.chdir(sub_dir)\n",
    "    \n",
    "    #slice time correction\n",
    "\n",
    "    print('\\t 2) Slice Time Correction using \"slicetimer\" function of FSL ...')\n",
    "    os.system(\"slicetimer -i bold_mcf --out=bold_mcf_st -r %s --%s\"%(TR,acquisitionType))\n",
    "    #os.system(\"fslmaths bold_mcf_st -Tmean mean_func\")\n"
   ]
  },
  {
   "cell_type": "code",
   "execution_count": null,
   "id": "7661780d",
   "metadata": {},
   "outputs": [],
   "source": []
  }
 ],
 "metadata": {
  "kernelspec": {
   "display_name": "Python 3 (ipykernel)",
   "language": "python",
   "name": "python3"
  },
  "language_info": {
   "codemirror_mode": {
    "name": "ipython",
    "version": 3
   },
   "file_extension": ".py",
   "mimetype": "text/x-python",
   "name": "python",
   "nbconvert_exporter": "python",
   "pygments_lexer": "ipython3",
   "version": "3.9.7"
  }
 },
 "nbformat": 4,
 "nbformat_minor": 5
}
