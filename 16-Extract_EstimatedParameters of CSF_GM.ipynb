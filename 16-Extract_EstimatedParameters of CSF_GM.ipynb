{
 "cells": [
  {
   "cell_type": "code",
   "execution_count": 8,
   "id": "d2cf6d14",
   "metadata": {},
   "outputs": [
    {
     "data": {
      "text/plain": [
       "0"
      ]
     },
     "execution_count": 8,
     "metadata": {},
     "output_type": "execute_result"
    }
   ],
   "source": [
    "import os\n",
    "import glob\n",
    "NREM = '/mnt/d/Data/Pigeon/Sleep/analysis2/GroupResults/NREM_pos_FLAME1.gfeat/cope1.feat/filtered_func_data.nii.gz'\n",
    "REM = '/mnt/d/Data/Pigeon/Sleep/analysis2/GroupResults/REM_pos_FLAME1.gfeat/cope1.feat/filtered_func_data.nii.gz'\n",
    "V4 = '/mnt/d/Data/Pigeon/Sleep/Scripts/template/V4_mask.nii.gz'\n",
    "VC = '/mnt/d/Data/Pigeon/Sleep/Scripts/template/VC_mask.nii.gz'\n",
    "GM = '/mnt/d/Data/Pigeon/Sleep/Scripts/template/Gray_Matter_mask.nii.gz'\n",
    "\n",
    "os.system('fslmeants -i %s -o /mnt/d/Data/Pigeon/Sleep/analysis2/GroupResults/NREM_V4.txt -m %s'%(NREM,V4))\n",
    "os.system('fslmeants -i %s -o /mnt/d/Data/Pigeon/Sleep/analysis2/GroupResults/NREM_VC.txt -m %s'%(NREM,VC))\n",
    "os.system('fslmeants -i %s -o /mnt/d/Data/Pigeon/Sleep/analysis2/GroupResults/NREM_GM.txt -m %s'%(NREM,GM))\n",
    "\n",
    "os.system('fslmeants -i %s -o /mnt/d/Data/Pigeon/Sleep/analysis2/GroupResults/REM_V4.txt -m %s'%(REM,V4))\n",
    "os.system('fslmeants -i %s -o /mnt/d/Data/Pigeon/Sleep/analysis2/GroupResults/REM_VC.txt -m %s'%(REM,VC))\n",
    "os.system('fslmeants -i %s -o /mnt/d/Data/Pigeon/Sleep/analysis2/GroupResults/REM_GM.txt -m %s'%(REM,GM))\n",
    "    "
   ]
  },
  {
   "cell_type": "code",
   "execution_count": null,
   "id": "9bde3610",
   "metadata": {},
   "outputs": [],
   "source": []
  }
 ],
 "metadata": {
  "kernelspec": {
   "display_name": "Python 3 (ipykernel)",
   "language": "python",
   "name": "python3"
  },
  "language_info": {
   "codemirror_mode": {
    "name": "ipython",
    "version": 3
   },
   "file_extension": ".py",
   "mimetype": "text/x-python",
   "name": "python",
   "nbconvert_exporter": "python",
   "pygments_lexer": "ipython3",
   "version": "3.9.7"
  }
 },
 "nbformat": 4,
 "nbformat_minor": 5
}
