{
 "cells": [
  {
   "cell_type": "markdown",
   "id": "d3ad3f49",
   "metadata": {},
   "source": [
    "# Temporal Signal-to-Noise Ratio (tSNR)\n",
    "A useful measure of image time course stability is the Temporal Signal-to-Noise Ratio (TSNR) calculated by dividing the mean of a time series by its standard deviation.\n",
    "\n",
    "https://www.ncbi.nlm.nih.gov/pmc/articles/PMC2223273/\n",
    "\n",
    "-----------------------------------------------------------\n",
    "Script written by Mehdi Behroozi\n",
    "<br>\n",
    "Biopsychology, \n",
    "<br>\n",
    "Ruhr-University Bochum, Bochum, Germany\n",
    "<br>\n",
    "(2022.03)\n",
    "\n",
    "-----------------------------------------------------------"
   ]
  },
  {
   "cell_type": "code",
   "execution_count": null,
   "id": "9aa86e22",
   "metadata": {},
   "outputs": [],
   "source": [
    "import glob\n",
    "import os\n",
    "import subprocess\n",
    "\n",
    "data_path = '/mnt/d/Data/Pigeon/Sleep/analysis3'\n",
    "bold_dirs = glob.glob('%s/sub*/*/results/preprocessed_data_highpassed_chopped.nii.gz'%(data_path))\n",
    "\n",
    "for curr_bold in bold_dirs:\n",
    "    sub_dir = os.path.dirname(curr_bold)\n",
    "    print('Currect direcotry is: %s'%(sub_dir))\n",
    "\n",
    "    # change directory to the res_dir \n",
    "    print('\\t 1) Changing the working directory to %s'%(sub_dir))\n",
    "    os.chdir(sub_dir)\n",
    "    \n",
    "    os.makedirs('tSNR_'+curr_bold.split('.')[-3].split('_')[-2])\n",
    "    print('\\t 2) Calculating mean across time ...')\n",
    "    os.system('fslmaths %s -Tmean %s/Tmean.nii.gz'%(curr_bold,'tSNR_'+curr_bold.split('.')[-3].split('_')[-2]))\n",
    "    \n",
    "    print('\\t 3) Calculating standard deviation across time ...')\n",
    "    os.system('fslmaths %s -Tstd %s/Tstd.nii.gz'%(curr_bold,'tSNR_'+curr_bold.split('.')[-3].split('_')[-2]))\n",
    "    \n",
    "    print('\\t 4) Calculating temporal SNR (Tmean/Tstd) ...')\n",
    "    os.chdir('tSNR_'+curr_bold.split('.')[-3].split('_')[-2])\n",
    "    os.system('fslmaths Tmean.nii.gz -div Tstd.nii.gz tSNR.nii.gz')"
   ]
  },
  {
   "cell_type": "code",
   "execution_count": null,
   "id": "fc450589",
   "metadata": {},
   "outputs": [],
   "source": []
  }
 ],
 "metadata": {
  "kernelspec": {
   "display_name": "Python 3 (ipykernel)",
   "language": "python",
   "name": "python3"
  },
  "language_info": {
   "codemirror_mode": {
    "name": "ipython",
    "version": 3
   },
   "file_extension": ".py",
   "mimetype": "text/x-python",
   "name": "python",
   "nbconvert_exporter": "python",
   "pygments_lexer": "ipython3",
   "version": "3.9.7"
  }
 },
 "nbformat": 4,
 "nbformat_minor": 5
}
