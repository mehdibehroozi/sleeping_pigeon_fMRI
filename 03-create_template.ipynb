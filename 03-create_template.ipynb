{
 "cells": [
  {
   "cell_type": "markdown",
   "metadata": {},
   "source": [
    "# template construction:\n",
    "1. Make a directory for your data. Copy or link all the images into it.\n",
    "2. On the command line, within that directory, run the following command: bash\n",
    "antsMultivariateTemplateConstruction2.sh to get usage.\n",
    "### **Example: **\n",
    "antsMultivariateTemplateConstruction.sh -d 3 -m 30x50x20 -t GR -s CC -c 1 -o MY -z InitialTemplate.nii.gz  *RF*T1x.nii.gz\n",
    "\n",
    "- In this example 30x50x20 iterations per registration are used for template creation (that is the default)\n",
    "- Greedy-SyN and CC are the metrics to guide the mapping.\n",
    "- Output is prepended with MY and the initial template is InitialTemplate.nii.gz (optional).\n",
    "- The -c option is set to 1, which will result in using the Sun Grid Engine (SGE) to distribute the computation.\n",
    "- if you do not have SGE, read the help for multi-core computation on the local machine, or Apple X-grid options.\n",
    "\n",
    "-----------------------------------------------------------\n",
    "Script written by Mehdi Behroozi\n",
    "<br>\n",
    "Biopsychology, \n",
    "<br>\n",
    "Ruhr-University Bochum, Bochum, Germany\n",
    "<br>\n",
    "(2022.03)\n",
    "\n",
    "-----------------------------------------------------------"
   ]
  },
  {
   "cell_type": "markdown",
   "metadata": {},
   "source": [
    "**Creat a folder for template construction and copy all anatoical data to this folder**"
   ]
  },
  {
   "cell_type": "code",
   "execution_count": null,
   "metadata": {
    "scrolled": true
   },
   "outputs": [],
   "source": [
    "import os\n",
    "import glob\n",
    "from shutil import copyfile, rmtree\n",
    "\n",
    "data_path = '/mnt/hgfs/D/Data/Pigeon/Sleep/analysis'\n",
    "template_path = '/mnt/hgfs/D/Data/Pigeon/Sleep/Scripts/template'\n",
    "anat_dirs = glob.glob('%s/sub*/*/t2w.nii.gz'%(data_path))\n",
    " # creat a template directory\n",
    "if os.path.exists(template_path):\n",
    "    print('Tempelate directory already exist!')\n",
    "    pass\n",
    "else:\n",
    "    print('Creating template directory ...')\n",
    "    os.mkdir(template_path)\n",
    "    \n",
    "for curr_anat in anat_dirs:\n",
    "    print('Copying %s >>> %s \\n'%(curr_anat,template_path))\n",
    "    curr_anat_split = curr_anat.split('/');\n",
    "    sub_name = curr_anat_split[-3]+'_'+curr_anat_split[-2]+'.nii.gz'\n",
    "          \n",
    "    dst = os.path.join(template_path,sub_name)\n",
    "    copyfile(curr_anat,dst)"
   ]
  },
  {
   "cell_type": "markdown",
   "metadata": {},
   "source": [
    "### **run antsMultivariateTemplateConstruction**"
   ]
  },
  {
   "cell_type": "code",
   "execution_count": null,
   "metadata": {
    "scrolled": true
   },
   "outputs": [],
   "source": [
    "import os\n",
    "os.chdir(template_path)\n",
    "os.system('antsMultivariateTemplateConstruction.sh -d 3 -m 30x50x20 -t GR -s CC -c 0 -z sub29_20191022.nii.gz -o TEMP sub*.nii.gz')"
   ]
  },
  {
   "cell_type": "markdown",
   "metadata": {},
   "source": [
    "### rename file"
   ]
  },
  {
   "cell_type": "code",
   "execution_count": null,
   "metadata": {},
   "outputs": [],
   "source": [
    "# rename file\n",
    "os.system('fslmaths TEMPtemplate0.nii.gz standard_head.nii.gz')"
   ]
  },
  {
   "cell_type": "markdown",
   "metadata": {},
   "source": [
    "### remove non related fiels from temp directory"
   ]
  },
  {
   "cell_type": "code",
   "execution_count": null,
   "metadata": {},
   "outputs": [],
   "source": [
    "os.system('rm -r TEMP* inter* sub*')"
   ]
  },
  {
   "cell_type": "markdown",
   "metadata": {},
   "source": [
    "### resample the template to have 2mm isotropic resolution"
   ]
  },
  {
   "cell_type": "code",
   "execution_count": null,
   "metadata": {},
   "outputs": [],
   "source": [
    "os.system('flirt -in standard_head -ref standard_head -out standard_head -applyisoxfm 1.95')"
   ]
  },
  {
   "cell_type": "markdown",
   "metadata": {},
   "source": [
    "### **clean the template manually**"
   ]
  },
  {
   "cell_type": "code",
   "execution_count": null,
   "metadata": {},
   "outputs": [],
   "source": [
    "os.chdir(template_path)\n",
    "# extract clear brain \n",
    "os.system('bet standard_head standard_brain -R -f 0.4 -g 0 -m')\n",
    "\n"
   ]
  },
  {
   "cell_type": "markdown",
   "metadata": {},
   "source": [
    "### apply clean mask"
   ]
  },
  {
   "cell_type": "code",
   "execution_count": null,
   "metadata": {},
   "outputs": [],
   "source": [
    "os.system('fslmaths standard_head -mul standard_brain_mask.nii.gz standard_brain')"
   ]
  }
 ],
 "metadata": {
  "kernelspec": {
   "display_name": "Python 3 (ipykernel)",
   "language": "python",
   "name": "python3"
  },
  "language_info": {
   "codemirror_mode": {
    "name": "ipython",
    "version": 3
   },
   "file_extension": ".py",
   "mimetype": "text/x-python",
   "name": "python",
   "nbconvert_exporter": "python",
   "pygments_lexer": "ipython3",
   "version": "3.9.7"
  }
 },
 "nbformat": 4,
 "nbformat_minor": 4
}
