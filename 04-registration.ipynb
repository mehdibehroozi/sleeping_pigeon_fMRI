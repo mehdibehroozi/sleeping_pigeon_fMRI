{
 "cells": [
  {
   "cell_type": "markdown",
   "metadata": {},
   "source": [
    "# Registration\n",
    "This script will creat \"reg\" directory in all bold directories and get registration infromation from functional space to anatomical space and from anatomical space to standard space. At the end, it will concatinate the results to have transformation from funrtional space to standard space.\n",
    "\n",
    "Linear registration:      functional space >>> anatomical space\n",
    "Non-Lineare registration: anatomical space >>> standard space\n",
    "\n",
    "-----------------------------------------------------------\n",
    "Script written by Mehdi Behroozi\n",
    "<br>\n",
    "Biopsychology, \n",
    "<br>\n",
    "Ruhr-University Bochum, Bochum, Germany\n",
    "<br>\n",
    "(2022.03)\n",
    "\n",
    "-----------------------------------------------------------"
   ]
  },
  {
   "cell_type": "markdown",
   "metadata": {},
   "source": [
    "## Anatomical >> Standard space registration"
   ]
  },
  {
   "cell_type": "code",
   "execution_count": null,
   "metadata": {
    "scrolled": true
   },
   "outputs": [],
   "source": [
    "import glob\n",
    "import os\n",
    "\n",
    "\n",
    "data_path = '/mnt/d/Data/Pigeon/Sleep/analysis3'\n",
    "reference_path = '/mnt/d/Data/Pigeon/Sleep/Scripts/template/'\n",
    "sub_dirs = glob.glob('%s/sub*/20*'%(data_path))\n",
    "\n",
    "for curr_sub in sub_dirs:\n",
    "    \n",
    "    reg_directory = os.path.join(curr_sub, 'results','reg')\n",
    "    if os.path.isdir(reg_directory):\n",
    "        print('%s directory exist! Deleting the directory ...'%(reg_directory))\n",
    "        os.system('rm -r %s'%(reg_directory))\n",
    "        \n",
    "        print('Creating directory %s ...'%(reg_directory))\n",
    "        os.makedirs(reg_directory)\n",
    "\n",
    "    else:\n",
    "        print('Creating directory %s ...'%(reg_directory))\n",
    "        os.makedirs(reg_directory)\n",
    "\n",
    "    print('\\t 1)Copying the t2w and standard images to %s ...'%(reg_directory))\n",
    "\n",
    "    #os.system('fslmaths %s/t2w.nii.gz %s/highres'%(curr_sub,reg_directory))\n",
    "    os.system('fslmaths %s/t2w.nii.gz %s/highres_head'%(curr_sub,reg_directory))\n",
    "    os.system('fslmaths %s/standard_brain.nii.gz %s/standard'%(reference_path,reg_directory))\n",
    "    os.system('fslmaths %s/standard_head.nii.gz %s/standard_head'%(reference_path,reg_directory))\n",
    "    os.system('fslmaths %s/standard_brain_mask.nii.gz %s/standard_mask'%(reference_path,reg_directory))\n",
    "    \n",
    "    # change directory to the reg \n",
    "    os.chdir(reg_directory)\n",
    "    \n",
    "    #highres 2 standard\n",
    "    # if you want to use FSL nonlinear registeration\n",
    "    print('\\t 2) Linear registration of anatomical image to the standard space ...')\n",
    "    os.system('flirt -in highres_head -ref standard_head -out highres2standard -omat highres2standard.mat -cost corratio -dof 12 -searchrx -180 180 -searchry -180 180 -searchrz -180 180 -interp trilinear')\n",
    "    \n",
    "    print('\\t 3) Non-Linear registration of anatomical image to the standard space ... \\n')\n",
    "    os.system('fnirt --in=highres_head --aff=highres2standard.mat --cout=highres2standard_warp --iout=highres2standard --jout=highres2highres_jac --ref=standard_head --refmask=standard_mask --warpres=6,6,6 --regmod=membrane_energy')\n",
    "    os.system('applywarp -i highres_head -r standard_head -o highres2standard -w highres2standard_warp')\n",
    "    \n",
    "    #converting the transformation matrix from standard space to anatomical space\n",
    "    os.system('convert_xfm -inverse -omat standard2highres.mat highres2standard.mat')\n",
    "    \n",
    "    # creating .png file to demonstrate the quality of registration \n",
    "    os.system('slicer highres2standard standard -s 2 -x 0.35 sla.png -x 0.45 slb.png -x 0.55 slc.png -x 0.65 sld.png -y 0.35 sle.png -y 0.45 slf.png -y 0.55 slg.png -y 0.65 slh.png -z 0.35 sli.png -z 0.45 slj.png -z 0.55 slk.png -z 0.65 sll.png ; pngappend sla.png + slb.png + slc.png + sld.png + sle.png + slf.png + slg.png + slh.png + sli.png + slj.png + slk.png + sll.png highres2standard1.png ; slicer standard highres2standard -s 2 -x 0.35 sla.png -x 0.45 slb.png -x 0.55 slc.png -x 0.65 sld.png -y 0.35 sle.png -y 0.45 slf.png -y 0.55 slg.png -y 0.65 slh.png -z 0.35 sli.png -z 0.45 slj.png -z 0.55 slk.png -z 0.65 sll.png ; pngappend sla.png + slb.png + slc.png + sld.png + sle.png + slf.png + slg.png + slh.png + sli.png + slj.png + slk.png + sll.png highres2standard2.png ; pngappend highres2standard1.png - highres2standard2.png highres2standard.png; rm -f sl?.png highres2standard2.png')\n",
    "    \n",
    "    # removing the non related files\n",
    "    os.system('rm highres2standard1.png')"
   ]
  },
  {
   "cell_type": "markdown",
   "metadata": {},
   "source": [
    "### Plot Anatomical >> Atlas registration results"
   ]
  },
  {
   "cell_type": "code",
   "execution_count": null,
   "metadata": {
    "scrolled": true
   },
   "outputs": [],
   "source": [
    "%matplotlib inline\n",
    "%pylab inline\n",
    "#import matplotlib.pyplot as plt\n",
    "#import matplotlib.image as mpimg\n",
    "\n",
    "from IPython.display import display, Image\n",
    "import glob\n",
    "import os\n",
    "\n",
    "data_path = '/mnt/d/Data/Pigeon/Sleep/analysis3'\n",
    "reg_dirs = glob.glob('%s/sub*/*/results/reg'%(data_path))\n",
    "\n",
    "for curr_reg in reg_dirs:\n",
    "    \n",
    "    #print(curr_reg)\n",
    "    print(curr_reg.split('/')[-4:-2])\n",
    "    plt.show()\n",
    "    display(Image(filename=os.path.join(curr_reg, 'highres2standard.png' )))"
   ]
  },
  {
   "cell_type": "markdown",
   "metadata": {},
   "source": [
    "## Creat example_func and save in reg directory"
   ]
  },
  {
   "cell_type": "code",
   "execution_count": null,
   "metadata": {
    "scrolled": true
   },
   "outputs": [],
   "source": [
    "#middle volume save as example_func\n",
    "import glob\n",
    "import os\n",
    "import subprocess\n",
    "\n",
    "data_path = '/mnt/d/Data/Pigeon/Sleep/analysis3'\n",
    "bold_dirs = glob.glob('%s/sub*/*/bold.nii.gz'%(data_path))\n",
    "dummy_scan = 5\n",
    "for curr_bold in bold_dirs:\n",
    "    print('Current file is %s \\n'%(curr_bold))\n",
    "    curr_dir = os.path.dirname(curr_bold)\n",
    "    reg_dst = os.path.join(curr_dir,'results','reg')\n",
    "    \n",
    "    # create example_func file: the midle volume of session\n",
    "    nVloume = subprocess.check_output(\"fslnvols %s\"%(curr_bold), shell=True).decode('utf-8')\n",
    "    os.system(\"fslroi %s %s/example_func %s %s\"%(curr_bold,reg_dst,round((int(nVloume))/2+dummy_scan),1))"
   ]
  },
  {
   "cell_type": "markdown",
   "metadata": {},
   "source": [
    "## Linear registration of Functional data into the Anatomical space \n",
    "\n",
    "You must check the results to make sure the registration is done in correct way.\n"
   ]
  },
  {
   "cell_type": "code",
   "execution_count": null,
   "metadata": {
    "scrolled": true
   },
   "outputs": [],
   "source": [
    "import glob\n",
    "import os\n",
    "import subprocess\n",
    "data_path = '/mnt/d/Data/Pigeon/Sleep/analysis3'\n",
    "reg_dirs = glob.glob('%s/sub*/*/results/reg'%(data_path))\n",
    "for curr_reg in reg_dirs:\n",
    "    os.chdir(curr_reg)\n",
    "    print('Current folder is %s  \\n'%(curr_reg))\n",
    "\n",
    "    #FSL\n",
    "    # register func2highres\n",
    "    os.system('flirt -in example_func -ref highres_head -out example_func2highres -omat example_func2highres.mat -bins 256 -cost corratio -searchrx -180 180 -searchry -180 180 -searchrz -180 180 -dof 12  -interp trilinear')\n",
    "    os.system('convert_xfm -inverse -omat highres2example_func.mat example_func2highres.mat')\n",
    "    os.system('slicer example_func2highres highres_head -s 2 -x 0.35 sla.png -x 0.45 slb.png -x 0.55 slc.png -x 0.65 sld.png -y 0.35 sle.png -y 0.45 slf.png -y 0.55 slg.png -y 0.65 slh.png -z 0.35 sli.png -z 0.45 slj.png -z 0.55 slk.png -z 0.65 sll.png ; pngappend sla.png + slb.png + slc.png + sld.png + sle.png + slf.png + slg.png + slh.png + sli.png + slj.png + slk.png + sll.png example_func2highres1.png ; slicer highres_head example_func2highres -s 2 -x 0.35 sla.png -x 0.45 slb.png -x 0.55 slc.png -x 0.65 sld.png -y 0.35 sle.png -y 0.45 slf.png -y 0.55 slg.png -y 0.65 slh.png -z 0.35 sli.png -z 0.45 slj.png -z 0.55 slk.png -z 0.65 sll.png ; pngappend sla.png + slb.png + slc.png + sld.png + sle.png + slf.png + slg.png + slh.png + sli.png + slj.png + slk.png + sll.png example_func2highres2.png ; pngappend example_func2highres1.png - example_func2highres2.png example_func2highres.png; rm -f sl?.png example_func2highres2.png')\n",
    "    os.system('rm example_func2highres1.png')\n"
   ]
  },
  {
   "cell_type": "markdown",
   "metadata": {},
   "source": [
    "### Plot example_func >> anatomical space registeration results"
   ]
  },
  {
   "cell_type": "code",
   "execution_count": null,
   "metadata": {},
   "outputs": [],
   "source": [
    "%matplotlib inline\n",
    "%pylab inline\n",
    "#import matplotlib.pyplot as plt\n",
    "#import matplotlib.image as mpimg\n",
    "\n",
    "from IPython.display import display, Image\n",
    "import glob\n",
    "import os\n",
    "\n",
    "data_path = '/mnt/d/Data/Pigeon/Sleep/analysis3'\n",
    "\n",
    "reg_dirs = glob.glob('%s/sub*/*/results/reg'%(data_path))\n",
    "for curr_reg in reg_dirs:\n",
    "    \n",
    "    print(curr_reg.split('/')[-4], curr_reg.split('/')[-3])\n",
    "    plt.show()\n",
    "    display(Image(filename=os.path.join(curr_reg, 'example_func2highres.png' )))\n"
   ]
  },
  {
   "cell_type": "markdown",
   "metadata": {},
   "source": [
    "## concatenate functional >> highres and highres >> standrad"
   ]
  },
  {
   "cell_type": "code",
   "execution_count": null,
   "metadata": {
    "scrolled": true
   },
   "outputs": [],
   "source": [
    "import glob\n",
    "import os\n",
    "import subprocess\n",
    "data_path = '/mnt/d/Data/Pigeon/Sleep/analysis3'\n",
    "\n",
    "reg_dirs = glob.glob('%s/sub*/*/results/reg'%(data_path))\n",
    "\n",
    "for curr_reg in reg_dirs:\n",
    "    print('1) Concatenating transfomrations from folder: %s'%(curr_reg))\n",
    "    # change path\n",
    "    os.chdir(curr_reg)\n",
    "    \n",
    "    # convert tranform matrix \n",
    "    os.system('convert_xfm -omat example_func2standard.mat -concat highres2standard.mat example_func2highres.mat')\n",
    "    os.system('convertwarp --ref=standard --premat=example_func2highres.mat --warp1=highres2standard_warp --out=example_func2standard_warp')\n",
    "    os.system('applywarp --ref=standard --in=example_func --out=example_func2standard --warp=example_func2standard_warp')\n",
    "    os.system('slicer example_func2standard standard -s 2 -x 0.35 sla.png -x 0.45 slb.png -x 0.55 slc.png -x 0.65 sld.png -y 0.35 sle.png -y 0.45 slf.png -y 0.55 slg.png -y 0.65 slh.png -z 0.35 sli.png -z 0.45 slj.png -z 0.55 slk.png -z 0.65 sll.png ; /usr/local/fsl/bin/pngappend sla.png + slb.png + slc.png + sld.png + sle.png + slf.png + slg.png + slh.png + sli.png + slj.png + slk.png + sll.png example_func2standard1.png ; /usr/local/fsl/bin/slicer standard example_func2standard -s 2 -x 0.35 sla.png -x 0.45 slb.png -x 0.55 slc.png -x 0.65 sld.png -y 0.35 sle.png -y 0.45 slf.png -y 0.55 slg.png -y 0.65 slh.png -z 0.35 sli.png -z 0.45 slj.png -z 0.55 slk.png -z 0.65 sll.png ; /usr/local/fsl/bin/pngappend sla.png + slb.png + slc.png + sld.png + sle.png + slf.png + slg.png + slh.png + sli.png + slj.png + slk.png + sll.png example_func2standard2.png ; /usr/local/fsl/bin/pngappend example_func2standard1.png - example_func2standard2.png example_func2standard.png; /bin/rm -f sl?.png example_func2standard2.png')\n",
    "    \n",
    "    print('2) Reversng example_func2standard Warp to standard2example_func Warp ... \\n\\n')\n",
    "    os.system('convert_xfm -inverse -omat standard2example_func.mat example_func2standard.mat')\n",
    "    os.system('invwarp --ref=example_func --warp=example_func2standard_warp --out=standard2example_func_warp')\n",
    "    os.system('applywarp --ref=example_func --in=standard --out=standard2example_func --warp=standard2example_func_warp')\n",
    "    os.system('slicer standard2example_func example_func -s 2 -x 0.35 sla.png -x 0.45 slb.png -x 0.55 slc.png -x 0.65 sld.png -y 0.35 sle.png -y 0.45 slf.png -y 0.55 slg.png -y 0.65 slh.png -z 0.35 sli.png -z 0.45 slj.png -z 0.55 slk.png -z 0.65 sll.png ; /usr/local/fsl/bin/pngappend sla.png + slb.png + slc.png + sld.png + sle.png + slf.png + slg.png + slh.png + sli.png + slj.png + slk.png + sll.png standard2example_func1.png ; /usr/local/fsl/bin/slicer example_func standard2example_func -s 2 -x 0.35 sla.png -x 0.45 slb.png -x 0.55 slc.png -x 0.65 sld.png -y 0.35 sle.png -y 0.45 slf.png -y 0.55 slg.png -y 0.65 slh.png -z 0.35 sli.png -z 0.45 slj.png -z 0.55 slk.png -z 0.65 sll.png ; /usr/local/fsl/bin/pngappend sla.png + slb.png + slc.png + sld.png + sle.png + slf.png + slg.png + slh.png + sli.png + slj.png + slk.png + sll.png standard2example_func2.png ; /usr/local/fsl/bin/pngappend standard2example_func1.png - standard2example_func2.png standard2example_func.png; /bin/rm -f sl?.png standard2example_func2.png')\n",
    "    os.system('fslmaths standard2example_func -bin example_func_mask')\n",
    "    #os.system('rm -r *1.png')"
   ]
  },
  {
   "cell_type": "markdown",
   "metadata": {},
   "source": [
    "# Plot standard >> functional space results\n",
    "You should make sure that the reversing the mask works properly."
   ]
  },
  {
   "cell_type": "code",
   "execution_count": null,
   "metadata": {},
   "outputs": [],
   "source": [
    "%matplotlib inline\n",
    "%pylab inline\n",
    "#import matplotlib.pyplot as plt\n",
    "#import matplotlib.image as mpimg\n",
    "\n",
    "from IPython.display import display, Image\n",
    "import glob\n",
    "import os\n",
    "\n",
    "data_path = '/mnt/d/Data/Pigeon/Sleep/analysis3'\n",
    "\n",
    "reg_dirs = glob.glob('%s/sub*/*/results/reg'%(data_path))\n",
    "for curr_reg in reg_dirs:\n",
    "    \n",
    "    print(curr_reg.split('/')[-4], curr_reg.split('/')[-3])\n",
    "    plt.show()\n",
    "    display(Image(filename=os.path.join(curr_reg, 'standard2example_func.png' )))"
   ]
  },
  {
   "cell_type": "markdown",
   "metadata": {},
   "source": [
    "# Converting example_func mask to anatomical space"
   ]
  },
  {
   "cell_type": "code",
   "execution_count": null,
   "metadata": {
    "scrolled": true
   },
   "outputs": [],
   "source": [
    "import glob\n",
    "import os\n",
    "\n",
    "data_path = '/mnt/d/Data/Pigeon/Sleep/analysis3'\n",
    "\n",
    "reg_dirs = glob.glob('%s/sub*/*/results/reg'%(data_path))\n",
    "\n",
    "for curr_reg in reg_dirs:\n",
    "    \n",
    "    print('Current folder is: %s \\n'%(curr_reg))\n",
    "    # change path\n",
    "    os.chdir(curr_reg)\n",
    "    os.system('flirt -in example_func_mask.nii.gz -ref highres_head -applyxfm -init example_func2highres.mat -interp nearestneighbour -out highres_mask')\n",
    "    os.system('fslmaths highres_head -mul highres_mask highres')\n"
   ]
  },
  {
   "cell_type": "markdown",
   "metadata": {},
   "source": [
    "# plot mask in functional spaces"
   ]
  },
  {
   "cell_type": "code",
   "execution_count": null,
   "metadata": {
    "scrolled": true
   },
   "outputs": [],
   "source": [
    "import glob\n",
    "import os\n",
    "import pandas as pd\n",
    "from nilearn.image import new_img_like, load_img, get_data\n",
    "import numpy as np\n",
    "from nilearn import plotting\n",
    "\n",
    "data_path = '/mnt/d/Data/Pigeon/Sleep/analysis3'\n",
    "\n",
    "reg_dirs = glob.glob('%s/sub*/*/results/reg'%(data_path))\n",
    "\n",
    "for curr_reg in reg_dirs:\n",
    "        \n",
    "    print(curr_reg.split('/')[-3],curr_reg.split('/')[-2])\n",
    "    mask_img = load_img(os.path.join(curr_reg, 'example_func_mask.nii.gz'))\n",
    "    # .astype() makes a copy.\n",
    "    process_mask = get_data(mask_img).astype(np.int)\n",
    "    \n",
    "    process_mask_img = new_img_like(mask_img, process_mask)\n",
    "\n",
    "    plotting.plot_roi(process_mask_img, bg_img=os.path.join(curr_reg, 'example_func.nii.gz'),\n",
    "                          cmap='Paired')\n",
    "    plotting.show()\n"
   ]
  },
  {
   "cell_type": "markdown",
   "metadata": {},
   "source": [
    "# Plot example_func >> standard space registeration results"
   ]
  },
  {
   "cell_type": "code",
   "execution_count": null,
   "metadata": {},
   "outputs": [],
   "source": [
    "%matplotlib inline\n",
    "%pylab inline\n",
    "#import matplotlib.pyplot as plt\n",
    "#import matplotlib.image as mpimg\n",
    "\n",
    "from IPython.display import display, Image\n",
    "import glob\n",
    "import os\n",
    "\n",
    "data_path = '/mnt/d/Data/Pigeon/Sleep/analysis3'\n",
    "\n",
    "reg_dirs = glob.glob('%s/sub*/*/results/reg'%(data_path))\n",
    "for curr_reg in reg_dirs:\n",
    "        \n",
    "    print(curr_reg.split('/')[-4],curr_reg.split('/')[-3])\n",
    "    plt.show()\n",
    "    display(Image(filename=os.path.join(curr_reg, 'example_func2standard.png' )))\n"
   ]
  },
  {
   "cell_type": "code",
   "execution_count": null,
   "metadata": {},
   "outputs": [],
   "source": []
  }
 ],
 "metadata": {
  "kernelspec": {
   "display_name": "Python 3 (ipykernel)",
   "language": "python",
   "name": "python3"
  },
  "language_info": {
   "codemirror_mode": {
    "name": "ipython",
    "version": 3
   },
   "file_extension": ".py",
   "mimetype": "text/x-python",
   "name": "python",
   "nbconvert_exporter": "python",
   "pygments_lexer": "ipython3",
   "version": "3.9.7"
  }
 },
 "nbformat": 4,
 "nbformat_minor": 4
}
