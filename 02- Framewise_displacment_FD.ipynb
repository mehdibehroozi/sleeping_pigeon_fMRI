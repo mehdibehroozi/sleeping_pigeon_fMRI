{
 "cells": [
  {
   "cell_type": "markdown",
   "metadata": {},
   "source": [
    "### Evaluate the motion artifacts of BOLD data\n",
    "This measure indexes the movement of the head from one volume to the next, and is calculated as the sum of the absolute values of the differentiated realignment estimates (by backwards differences) at every timepoint.\n",
    "<br>\n",
    "You need to adjust the threshould for number of affected volumes and threshould for absolut value for FD.\n",
    " \n",
    "-----------------------------------------------------------\n",
    "Script written by Mehdi Behroozi\n",
    "<br>\n",
    "Biopsychology, \n",
    "<br>\n",
    "Ruhr-University Bochum, Bochum, Germany\n",
    "<br>\n",
    "(2022.03)\n",
    "\n",
    "-----------------------------------------------------------"
   ]
  },
  {
   "cell_type": "code",
   "execution_count": null,
   "metadata": {
    "scrolled": true
   },
   "outputs": [],
   "source": [
    "import glob\n",
    "import os\n",
    "\n",
    "nFD_threshold = 50 #number of affected volume which is alowded >> 20% of the data (edit here)\n",
    "thresh = 0.9 #Absolute threshold value fo affected volume by motion (edit here)\n",
    "\n",
    "\n",
    "data_path = '/mnt/d/Data/Pigeon/Sleep/analysis3'\n",
    " \n",
    "bold_files = glob.glob('%s/sub*/*/bold.nii.gz'%(data_path))\n",
    "for curr_bold in list(bold_files):\n",
    "    print('Current data is: %s'%(curr_bold))\n",
    "    cur_dir = os.path.join(os.path.dirname(curr_bold),'results')\n",
    "    \n",
    "    if os.path.isdir(cur_dir)==False:\n",
    "        print('\\t 1) Create results directory ...')\n",
    "        os.makedirs(cur_dir)\n",
    "    else:\n",
    "        print('\\t 1) resutls directory exists!!!')\n",
    "        pass\n",
    "     \n",
    "    \n",
    "    if os.path.isdir('%s/motion_assess'%(cur_dir))==False:\n",
    "        print('\\t 2) Creating %s/motion_assess directory ...'%(cur_dir))\n",
    "        os.makedirs('%s/motion_assess'%(cur_dir))\n",
    "    else:\n",
    "        print('\\t 2) %s/motion_assess directory exist! Deleting old and creating new directory ... '%(cur_dir))\n",
    "        os.system('rm -r %s/motion_assess'%(cur_dir))\n",
    "        os.makedirs('%s/motion_assess'%(cur_dir))\n",
    "    \n",
    "    \n",
    "    print('\\t 3) Runing fsl_motion_outliers with threshould of %s ... \\n'%(thresh))\n",
    "    os.system(\"fsl_motion_outliers -i {0} -o {1}/motion_assess/confound.txt --fd --thresh={2} -s {1}/motion_assess/fd_data.txt -p {1}/motion_assess/fd_plot -v > {1}/motion_assess/outlier_output.txt\".format(curr_bold, cur_dir, thresh))\n",
    "\n",
    "    # Last, if we're planning on modeling out scrubbed volumes later\n",
    "    #   it is helpful to create an empty file if confound.txt isn't\n",
    "    #   generated (i.e. no scrubbing needed).  It is basically a\n",
    "    #   place holder to make future scripting easier\n",
    "    if os.path.isfile(\"%s/motion_assess/confound.txt\"%(cur_dir))==False:\n",
    "        os.system(\"touch %s/motion_assess/confound.txt\"%(cur_dir))\n",
    "\n"
   ]
  },
  {
   "cell_type": "markdown",
   "metadata": {},
   "source": [
    "# Plot framewise displasment results\n",
    "The results for single subjects will be ploted"
   ]
  },
  {
   "cell_type": "code",
   "execution_count": null,
   "metadata": {
    "scrolled": true
   },
   "outputs": [],
   "source": [
    "%matplotlib inline\n",
    "%pylab inline\n",
    "\n",
    "from IPython.display import display, Image\n",
    "import glob\n",
    "import os\n",
    "data_path = '/mnt/d/Data/Pigeon/Sleep/analysis3'\n",
    "\n",
    "FD_files = glob.glob('%s/sub*/*/results/motion_assess/fd_plot.png'%(data_path))\n",
    "\n",
    "for curr_FD in FD_files:\n",
    "    \n",
    "    print(curr_FD.split('/')[-4]+'/'+curr_FD.split('/')[-3])\n",
    "    plt.show()\n",
    "    display(Image(filename=curr_FD))"
   ]
  },
  {
   "cell_type": "markdown",
   "metadata": {},
   "source": [
    "# Plot Histogram\n",
    "This code will pull FD data from all subjects and plot the histogram"
   ]
  },
  {
   "cell_type": "code",
   "execution_count": null,
   "metadata": {},
   "outputs": [],
   "source": [
    "%matplotlib inline\n",
    "%pylab inline\n",
    "# import os\n",
    "import glob\n",
    "import matplotlib.pyplot as plt\n",
    "import matplotlib\n",
    "import os\n",
    "data_path = '/mnt/d/Data/Pigeon/Sleep/analysis3'\n",
    "FD_files = glob.glob('%s/sub*/*/results/motion_assess/fd_data.txt'%(data_path))\n",
    "FD_data = []\n",
    "for cur_FD in FD_files:\n",
    "    #print(cur_FD)\n",
    "    f = open(cur_FD, \"r\")\n",
    "    for line in f:\n",
    "        if line != \" \":\n",
    "            FD_data.append((float(line.rsplit()[0])))\n",
    "            \n",
    "plt.hist(FD_data, bins=50, orientation='horizontal')\n",
    "plt.ylabel('framewise displacement (mm)')\n",
    "plt.xlabel('# volume')\n",
    "#plt.xlim([0,7000])\n",
    "#plt.ylim([-.1,0.8])\n",
    "plt.style.context('seaborn-bright')\n",
    "#plt.savefig(os.path.join(data_path,'motion_parameters/FD.svg'), format='svg', dpi=1200)\n",
    "#plt.savefig(os.path.join(data_path,'motion_parameters/FD.png'))\n"
   ]
  },
  {
   "cell_type": "markdown",
   "metadata": {},
   "source": [
    "# Finding number of affected volumes for each run"
   ]
  },
  {
   "cell_type": "code",
   "execution_count": null,
   "metadata": {},
   "outputs": [],
   "source": [
    "#or function version\n",
    "def length_of_list(list_of_numbers, number):\n",
    "    x = [i for i in list_of_numbers if i > number]\n",
    "    return len(x)"
   ]
  },
  {
   "cell_type": "code",
   "execution_count": null,
   "metadata": {},
   "outputs": [],
   "source": [
    "import glob\n",
    "import matplotlib.pyplot as plt\n",
    "import matplotlib\n",
    "data_path = '/mnt/d/Data/Pigeon/Sleep/analysis2'\n",
    "\n",
    "FD_files = glob.glob('%s/sub*/*/results/motion_assess/fd_data.txt'%(data_path))\n",
    "thresh = 0.9 #Absolute threshold value fo affected volume by motion (edit here)\n",
    "FD_data = []\n",
    "for cur_FD in list(FD_files):\n",
    "    FD_data = []\n",
    "    \n",
    "    #print(cur_FD)\n",
    "    f = open(cur_FD, \"r\")\n",
    "    for line in f:\n",
    "        if line != \" \":\n",
    "            FD_data.append((float(line.rsplit()[0])))\n",
    "    print([cur_FD.split('/')[-4],cur_FD.split('/')[-3]], ' \\t --->> \\t ', length_of_list(FD_data, thresh))# for task fmri it can be half of voxel size"
   ]
  },
  {
   "cell_type": "code",
   "execution_count": null,
   "metadata": {},
   "outputs": [],
   "source": []
  }
 ],
 "metadata": {
  "kernelspec": {
   "display_name": "Python 3 (ipykernel)",
   "language": "python",
   "name": "python3"
  },
  "language_info": {
   "codemirror_mode": {
    "name": "ipython",
    "version": 3
   },
   "file_extension": ".py",
   "mimetype": "text/x-python",
   "name": "python",
   "nbconvert_exporter": "python",
   "pygments_lexer": "ipython3",
   "version": "3.9.7"
  }
 },
 "nbformat": 4,
 "nbformat_minor": 4
}
