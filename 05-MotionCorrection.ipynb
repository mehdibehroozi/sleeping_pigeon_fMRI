{
 "cells": [
  {
   "cell_type": "markdown",
   "id": "c5499701",
   "metadata": {},
   "source": [
    "# motion correction\n",
    "This script will use \"mcflirt\" function of FSL to run estimate motion parameters.\n",
    "<br>\n",
    "Here we use the middle volume as reference.\n",
    "<br>\n",
    "The main outputs of this script are the realligned ts and the 6 estimated motion parameters (3 rotations + 3 traslations). These parmeters will be used to regress out the motion artificats from bold data.\n",
    "\n",
    "-----------------------------------------------------------\n",
    "Script written by Mehdi Behroozi\n",
    "<br>\n",
    "Biopsychology, \n",
    "<br>\n",
    "Ruhr-University Bochum, Bochum, Germany\n",
    "<br>\n",
    "(2022.03)\n",
    "\n",
    "-----------------------------------------------------------"
   ]
  },
  {
   "cell_type": "code",
   "execution_count": null,
   "id": "ab019d53",
   "metadata": {
    "scrolled": true
   },
   "outputs": [],
   "source": [
    "import glob\n",
    "import os\n",
    "import subprocess\n",
    "\n",
    "data_path = '/mnt/d/Data/Pigeon/Sleep/analysis3'\n",
    "bold_dirs = glob.glob('%s/sub*/*/bold.nii.gz'%(data_path))\n",
    "\n",
    "for curr_bold in bold_dirs:\n",
    "    sub_dir = os.path.dirname(curr_bold)\n",
    "    print('Currect direcotry is: %s'%(sub_dir))\n",
    "   \n",
    "    #reg dir\n",
    "    #reg_dir = os.path.join(sub_dir,'reg')\n",
    "    #print(reg_dir)\n",
    "    #res_dir = os.path.join(sub_dir,'results')# mc: motion correction; st: slice time correction; ss: spatial smoothing; tf: temporal filtering\n",
    "    #print(res_dir)\n",
    "    \n",
    "    #print('\\t 1)Creating results direcotry ...')\n",
    "    #os.makedirs(res_dir)\n",
    "    \n",
    "    #print('\\t 2) Copying bold to the result directory ...')\n",
    "    #os.system('fslmaths %s %s/prefiltered_func_data -odt float'%(curr_bold, res_dir))\n",
    "    \n",
    "    # change directory to the res_dir \n",
    "    print('\\t 1) Changing the working directory to %s'%(sub_dir))\n",
    "    os.chdir(os.path.join(sub_dir,'results'))\n",
    "    \n",
    "    #motion correction\n",
    "\n",
    "    print('\\t 2) Motion Correction using \"MCFLIRT\" function of FSL ...')\n",
    "    os.system(\"mcflirt -in ../bold -out bold_mcf -mats -plots -reffile reg/example_func -rmsrel -rmsabs -spline_final\")\n",
    "    os.system(\"mkdir -p mc ; mv -f bold_mcf.mat bold_mcf.par bold_mcf_abs.rms bold_mcf_abs_mean.rms bold_mcf_rel.rms bold_mcf_rel_mean.rms  mc\")\n",
    "    os.system(\"fsl_tsplot -i %s/bold_mcf.par -t 'MCFLIRT estimated rotations (radians)' -u 1 --start=1 --finish=3 -a x,y,z -w 640 -h 144 -o %s/rot.png\"%('mc','mc'))\n",
    "    os.system(\"fsl_tsplot -i %s/bold_mcf.par -t 'MCFLIRT estimated translations (mm)' -u 1 --start=4 --finish=6 -a x,y,z -w 640 -h 144 -o %s/trans.png\"%('mc','mc'))\n",
    "    os.system(\"fsl_tsplot -i %s/bold_mcf_abs.rms,%s/bold_mcf_rel.rms -t 'MCFLIRT estimated mean displacement (mm)' -u 1 -w 640 -h 144 -a absolute,relative -o %s/disp.png\"%('mc','mc','mc')) \n",
    "  "
   ]
  },
  {
   "cell_type": "markdown",
   "id": "5f049853",
   "metadata": {},
   "source": [
    "### plot estimated motion parameters\n"
   ]
  },
  {
   "cell_type": "code",
   "execution_count": null,
   "id": "f57f113b",
   "metadata": {},
   "outputs": [],
   "source": [
    "%matplotlib inline\n",
    "%pylab inline\n",
    "\n",
    "from IPython.display import display, Image\n",
    "import glob\n",
    "import os\n",
    "\n",
    "data_path = '/mnt/d/Data/Pigeon/Sleep/analysis3'\n",
    "mc_dirs = glob.glob('%s/sub*/*/results/mc'%(data_path))\n",
    "\n",
    "for curr_mc in mc_dirs:\n",
    "    print(curr_mc.split('/')[-4:-2])\n",
    "    \n",
    "    plt.show()\n",
    "    display(Image(filename=os.path.join(curr_mc, 'rot.png' )))\n",
    "    display(Image(filename=os.path.join(curr_mc, 'trans.png' )))"
   ]
  },
  {
   "cell_type": "code",
   "execution_count": null,
   "id": "5c44d8aa",
   "metadata": {},
   "outputs": [],
   "source": []
  }
 ],
 "metadata": {
  "kernelspec": {
   "display_name": "Python 3 (ipykernel)",
   "language": "python",
   "name": "python3"
  },
  "language_info": {
   "codemirror_mode": {
    "name": "ipython",
    "version": 3
   },
   "file_extension": ".py",
   "mimetype": "text/x-python",
   "name": "python",
   "nbconvert_exporter": "python",
   "pygments_lexer": "ipython3",
   "version": "3.9.7"
  }
 },
 "nbformat": 4,
 "nbformat_minor": 5
}
