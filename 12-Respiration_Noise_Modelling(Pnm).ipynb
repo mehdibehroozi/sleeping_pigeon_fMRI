{
 "cells": [
  {
   "cell_type": "markdown",
   "metadata": {},
   "source": [
    "# PNM: Physiological Noise Modelling\n",
    "\n",
    "we used Pnm in FSL to find the voxel-wise regresorse for respiration signal to model in GLM\n",
    "<br>\n",
    "https://fsl.fmrib.ox.ac.uk/fsl/fslwiki/PNM/UserGuide\n",
    "<br>\n",
    "https://www.jiscmail.ac.uk/cgi-bin/webadmin?A2=FSL;f099cf08.1605\n",
    "\n",
    "\n",
    "-----------------------------------------------------------\n",
    "Script written by Mehdi Behroozi\n",
    "<br>\n",
    "Biopsychology, \n",
    "<br>\n",
    "Ruhr-University Bochum, Bochum, Germany\n",
    "<br>\n",
    "(2022.03)\n",
    "\n",
    "-----------------------------------------------------------"
   ]
  },
  {
   "cell_type": "code",
   "execution_count": null,
   "metadata": {
    "scrolled": true
   },
   "outputs": [],
   "source": [
    "import os\n",
    "import glob\n",
    "data_path = '/mnt/d/Data/Pigeon/Sleep/analysis3'\n",
    "sub_dirs = glob.glob('%s/sub*/2*/results'%(data_path))\n",
    "\n",
    "for curr_sub in sub_dirs:\n",
    "    print(curr_sub)\n",
    "    os.system('fslFixText %s/PNM/Physiological_record.txt %s/PNM/mypnm_input.txt'%(curr_sub,curr_sub))\n",
    "    os.system('pnm_stage1 -i %s/PNM/mypnm_input.txt -o %s/PNM/mypnm -s 100 --tr=4 --smoothcard=0.1 --smoothresp=0.1 --resp=2 --cardiac=3 --trigger=1 --rvt'%(curr_sub,curr_sub))\n",
    "    os.system('popp -i %s/PNM/mypnm_input.txt -o %s/PNM/mypnm -s 100 --tr=4 --smoothcard=0.1 --smoothresp=0.1 --resp=2 --cardiac=3 --trigger=1 --rvt'%(curr_sub,curr_sub))\n",
    "    os.system('pnm_evs -i %s/preprocessed_data_bandpassed_chopped.nii.gz -c %s/PNM/mypnm_card.txt -r %s/PNM/mypnm_resp.txt -o %s/PNM/mypnm --tr=4 --oc=0 --or=4 --multc=0 --multr=2 --rvt=%s/PNM/mypnm_rvt.txt --rvtsmooth=10 --sliceorder=interleaved_up --slicedir=z'%(curr_sub,curr_sub,curr_sub,curr_sub,curr_sub))\n",
    "    os.system('ls %s/PNM/mypnmev* >> %s/PNM/mypnm_evlist.txt'%(curr_sub,curr_sub))\n"
   ]
  },
  {
   "cell_type": "markdown",
   "metadata": {},
   "source": [
    "# for resting-state data\n",
    "If you are doing custom preprocessing and want to regress out the voxelwise confounds from PNM, then it should be possible to do this with fsl_glm and the voxelwise confound option, something like:\n",
    "\n",
    "fsl_glm -i input --vxf=voxelwiseConfound1,voxelwiseConfound2,etc --out_res=output -d blank.mat\n",
    "\n",
    "should work - the \"residuals\" output being the original data corrected for the confounds. blank.mat should be a single column of zeros, with a number of rows equal to the number of timepoints ( you can create this with Glm_gui ).\n",
    "\n",
    "you can use evlist.txt to find the names of the files to be passed to the vxf option.\n",
    "\n",
    "Note that if input has already been filtered ( e.g. highpass ) the same filtering must be applied to the voxelwise EV's."
   ]
  }
 ],
 "metadata": {
  "kernelspec": {
   "display_name": "Python 3 (ipykernel)",
   "language": "python",
   "name": "python3"
  },
  "language_info": {
   "codemirror_mode": {
    "name": "ipython",
    "version": 3
   },
   "file_extension": ".py",
   "mimetype": "text/x-python",
   "name": "python",
   "nbconvert_exporter": "python",
   "pygments_lexer": "ipython3",
   "version": "3.9.7"
  }
 },
 "nbformat": 4,
 "nbformat_minor": 4
}
