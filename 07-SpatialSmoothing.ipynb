{
 "cells": [
  {
   "cell_type": "markdown",
   "id": "b58b8e42",
   "metadata": {},
   "source": [
    "# Spatial smoothing\n",
    "This script smooths the ts with a gaussian kernel of 700um (~2 times voxel size).\n",
    "<br>\n",
    "We used **\"3dBlurInMask\"** function from AFNI, which estimates the smoothness of the dataset, and attempts to smooth only to specified blur amounts in the x, y, and z directions.\n",
    "\n",
    "-----------------------------------------------------------\n",
    "Script written by Mehdi Behroozi\n",
    "<br>\n",
    "Biopsychology, \n",
    "<br>\n",
    "Ruhr-University Bochum, Bochum, Germany\n",
    "<br>\n",
    "(2022.03)\n",
    "\n",
    "-----------------------------------------------------------"
   ]
  },
  {
   "cell_type": "code",
   "execution_count": null,
   "id": "4a37bf59",
   "metadata": {
    "scrolled": true
   },
   "outputs": [],
   "source": [
    "import glob\n",
    "import os\n",
    "import subprocess\n",
    "\n",
    "data_path = '/mnt/d/Data/Pigeon/Sleep/analysis3'\n",
    "bold_dirs = glob.glob('%s/sub*/*/results/*st.nii.gz'%(data_path))\n",
    "FWHM = 10\n",
    "\n",
    "for curr_bold in bold_dirs:\n",
    "    sub_dir = os.path.dirname(curr_bold)\n",
    "    \n",
    "    print('Currect file is: %s'%(curr_bold))\n",
    "\n",
    "    # change directory to the res_dir \n",
    "    print('\\t 1) Changing the working directory to %s'%(sub_dir))\n",
    "    os.chdir(sub_dir)\n",
    "      \n",
    "    print('\\t 2) Spatial Smooting using \"3dBlurInMask\" function of AFNI ...')\n",
    "    os.system('3dBlurInMask -input %s -prefix %s_smoothed.nii.gz -mask reg/example_func_mask.nii.gz -FWHM %s'%(curr_bold.split('/')[-1],curr_bold.split('/')[-1].split('.')[0],FWHM))\n",
    "    \n",
    "    "
   ]
  },
  {
   "cell_type": "code",
   "execution_count": null,
   "id": "2f4f5c98",
   "metadata": {},
   "outputs": [],
   "source": []
  }
 ],
 "metadata": {
  "kernelspec": {
   "display_name": "Python 3 (ipykernel)",
   "language": "python",
   "name": "python3"
  },
  "language_info": {
   "codemirror_mode": {
    "name": "ipython",
    "version": 3
   },
   "file_extension": ".py",
   "mimetype": "text/x-python",
   "name": "python",
   "nbconvert_exporter": "python",
   "pygments_lexer": "ipython3",
   "version": "3.9.7"
  }
 },
 "nbformat": 4,
 "nbformat_minor": 5
}
